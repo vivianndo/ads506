{
 "cells": [
  {
   "cell_type": "markdown",
   "id": "d9a6e2eb",
   "metadata": {},
   "source": [
    "# PLOO Water Temperature ADS- 506 Project\n",
    "## Install and load packages"
   ]
  },
  {
   "cell_type": "code",
   "execution_count": 40,
   "id": "246ec2c5",
   "metadata": {},
   "outputs": [],
   "source": [
    "#install.packages('fpp2')\n",
    "#install.packages('import')\n",
    "#install.packages('caret')\n",
    "#install.packages('readr')\n",
    "#install.packages('tidyverse')\n",
    "#install.packages('zoo')\n",
    "#install.packages('gridExtra')\n",
    "#install.packages('forecast')"
   ]
  },
  {
   "cell_type": "code",
   "execution_count": 41,
   "id": "a20f0fc9",
   "metadata": {},
   "outputs": [],
   "source": [
    "library(caret)\n",
    "library(forecast)\n",
    "library(gridExtra)\n",
    "library(import)\n",
    "library(readr)\n",
    "library(fpp2)\n",
    "library(zoo)\n",
    "library(tidyverse)"
   ]
  },
  {
   "cell_type": "markdown",
   "id": "976f50a7",
   "metadata": {},
   "source": [
    "## Load data"
   ]
  },
  {
   "cell_type": "code",
   "execution_count": 9,
   "id": "b70ee568",
   "metadata": {},
   "outputs": [
    {
     "data": {
      "text/html": [
       "<table class=\"dataframe\">\n",
       "<caption>A tibble: 6 × 9</caption>\n",
       "<thead>\n",
       "\t<tr><th scope=col>project</th><th scope=col>Deployment#</th><th scope=col>unixtime_1000_gmt</th><th scope=col>datetime_pst</th><th scope=col>depth_m</th><th scope=col>parameter</th><th scope=col>units</th><th scope=col>value</th><th scope=col>qualifier_flag</th></tr>\n",
       "\t<tr><th scope=col>&lt;chr&gt;</th><th scope=col>&lt;dbl&gt;</th><th scope=col>&lt;dbl&gt;</th><th scope=col>&lt;dttm&gt;</th><th scope=col>&lt;dbl&gt;</th><th scope=col>&lt;chr&gt;</th><th scope=col>&lt;chr&gt;</th><th scope=col>&lt;dbl&gt;</th><th scope=col>&lt;dbl&gt;</th></tr>\n",
       "</thead>\n",
       "<tbody>\n",
       "\t<tr><td>PLOO_RTOMS</td><td>3</td><td>1.641024e+12</td><td>2022-01-01</td><td> 1</td><td>Water temperature</td><td>degrees Celsius</td><td>15.635</td><td>1</td></tr>\n",
       "\t<tr><td>PLOO_RTOMS</td><td>3</td><td>1.641024e+12</td><td>2022-01-01</td><td> 9</td><td>Water temperature</td><td>degrees Celsius</td><td>15.644</td><td>1</td></tr>\n",
       "\t<tr><td>PLOO_RTOMS</td><td>3</td><td>1.641024e+12</td><td>2022-01-01</td><td>20</td><td>Water temperature</td><td>degrees Celsius</td><td>15.648</td><td>1</td></tr>\n",
       "\t<tr><td>PLOO_RTOMS</td><td>3</td><td>1.641024e+12</td><td>2022-01-01</td><td>30</td><td>Water temperature</td><td>degrees Celsius</td><td>15.376</td><td>1</td></tr>\n",
       "\t<tr><td>PLOO_RTOMS</td><td>3</td><td>1.641024e+12</td><td>2022-01-01</td><td>45</td><td>Water temperature</td><td>degrees Celsius</td><td>13.385</td><td>1</td></tr>\n",
       "\t<tr><td>PLOO_RTOMS</td><td>3</td><td>1.641024e+12</td><td>2022-01-01</td><td>60</td><td>Water temperature</td><td>degrees Celsius</td><td>12.047</td><td>1</td></tr>\n",
       "</tbody>\n",
       "</table>\n"
      ],
      "text/latex": [
       "A tibble: 6 × 9\n",
       "\\begin{tabular}{lllllllll}\n",
       " project & Deployment\\# & unixtime\\_1000\\_gmt & datetime\\_pst & depth\\_m & parameter & units & value & qualifier\\_flag\\\\\n",
       " <chr> & <dbl> & <dbl> & <dttm> & <dbl> & <chr> & <chr> & <dbl> & <dbl>\\\\\n",
       "\\hline\n",
       "\t PLOO\\_RTOMS & 3 & 1.641024e+12 & 2022-01-01 &  1 & Water temperature & degrees Celsius & 15.635 & 1\\\\\n",
       "\t PLOO\\_RTOMS & 3 & 1.641024e+12 & 2022-01-01 &  9 & Water temperature & degrees Celsius & 15.644 & 1\\\\\n",
       "\t PLOO\\_RTOMS & 3 & 1.641024e+12 & 2022-01-01 & 20 & Water temperature & degrees Celsius & 15.648 & 1\\\\\n",
       "\t PLOO\\_RTOMS & 3 & 1.641024e+12 & 2022-01-01 & 30 & Water temperature & degrees Celsius & 15.376 & 1\\\\\n",
       "\t PLOO\\_RTOMS & 3 & 1.641024e+12 & 2022-01-01 & 45 & Water temperature & degrees Celsius & 13.385 & 1\\\\\n",
       "\t PLOO\\_RTOMS & 3 & 1.641024e+12 & 2022-01-01 & 60 & Water temperature & degrees Celsius & 12.047 & 1\\\\\n",
       "\\end{tabular}\n"
      ],
      "text/markdown": [
       "\n",
       "A tibble: 6 × 9\n",
       "\n",
       "| project &lt;chr&gt; | Deployment# &lt;dbl&gt; | unixtime_1000_gmt &lt;dbl&gt; | datetime_pst &lt;dttm&gt; | depth_m &lt;dbl&gt; | parameter &lt;chr&gt; | units &lt;chr&gt; | value &lt;dbl&gt; | qualifier_flag &lt;dbl&gt; |\n",
       "|---|---|---|---|---|---|---|---|---|\n",
       "| PLOO_RTOMS | 3 | 1.641024e+12 | 2022-01-01 |  1 | Water temperature | degrees Celsius | 15.635 | 1 |\n",
       "| PLOO_RTOMS | 3 | 1.641024e+12 | 2022-01-01 |  9 | Water temperature | degrees Celsius | 15.644 | 1 |\n",
       "| PLOO_RTOMS | 3 | 1.641024e+12 | 2022-01-01 | 20 | Water temperature | degrees Celsius | 15.648 | 1 |\n",
       "| PLOO_RTOMS | 3 | 1.641024e+12 | 2022-01-01 | 30 | Water temperature | degrees Celsius | 15.376 | 1 |\n",
       "| PLOO_RTOMS | 3 | 1.641024e+12 | 2022-01-01 | 45 | Water temperature | degrees Celsius | 13.385 | 1 |\n",
       "| PLOO_RTOMS | 3 | 1.641024e+12 | 2022-01-01 | 60 | Water temperature | degrees Celsius | 12.047 | 1 |\n",
       "\n"
      ],
      "text/plain": [
       "  project    Deployment# unixtime_1000_gmt datetime_pst depth_m\n",
       "1 PLOO_RTOMS 3           1.641024e+12      2022-01-01    1     \n",
       "2 PLOO_RTOMS 3           1.641024e+12      2022-01-01    9     \n",
       "3 PLOO_RTOMS 3           1.641024e+12      2022-01-01   20     \n",
       "4 PLOO_RTOMS 3           1.641024e+12      2022-01-01   30     \n",
       "5 PLOO_RTOMS 3           1.641024e+12      2022-01-01   45     \n",
       "6 PLOO_RTOMS 3           1.641024e+12      2022-01-01   60     \n",
       "  parameter         units           value  qualifier_flag\n",
       "1 Water temperature degrees Celsius 15.635 1             \n",
       "2 Water temperature degrees Celsius 15.644 1             \n",
       "3 Water temperature degrees Celsius 15.648 1             \n",
       "4 Water temperature degrees Celsius 15.376 1             \n",
       "5 Water temperature degrees Celsius 13.385 1             \n",
       "6 Water temperature degrees Celsius 12.047 1             "
      ]
     },
     "metadata": {},
     "output_type": "display_data"
    }
   ],
   "source": [
    "# read in data\n",
    "df <- read_csv('PLOO_water_temperature_2022_datasd.csv', show_col_types = FALSE)\n",
    "head(df)"
   ]
  },
  {
   "cell_type": "markdown",
   "id": "efd6c5b9",
   "metadata": {},
   "source": [
    "# EDA & Pre-processing\n",
    "## Convert the start date to a POSIXct object"
   ]
  },
  {
   "cell_type": "code",
   "execution_count": 10,
   "id": "7b3b5be6",
   "metadata": {},
   "outputs": [
    {
     "data": {
      "text/html": [
       "<table class=\"dataframe\">\n",
       "<caption>A tibble: 6 × 9</caption>\n",
       "<thead>\n",
       "\t<tr><th scope=col>project</th><th scope=col>Deployment#</th><th scope=col>unixtime_1000_gmt</th><th scope=col>datetime_pst</th><th scope=col>depth_m</th><th scope=col>parameter</th><th scope=col>units</th><th scope=col>value</th><th scope=col>qualifier_flag</th></tr>\n",
       "\t<tr><th scope=col>&lt;chr&gt;</th><th scope=col>&lt;dbl&gt;</th><th scope=col>&lt;dbl&gt;</th><th scope=col>&lt;dttm&gt;</th><th scope=col>&lt;dbl&gt;</th><th scope=col>&lt;chr&gt;</th><th scope=col>&lt;chr&gt;</th><th scope=col>&lt;dbl&gt;</th><th scope=col>&lt;dbl&gt;</th></tr>\n",
       "</thead>\n",
       "<tbody>\n",
       "\t<tr><td>PLOO_RTOMS</td><td>3</td><td>1.641024e+12</td><td>2022-01-01</td><td> 1</td><td>Water temperature</td><td>degrees Celsius</td><td>15.635</td><td>1</td></tr>\n",
       "\t<tr><td>PLOO_RTOMS</td><td>3</td><td>1.641024e+12</td><td>2022-01-01</td><td> 9</td><td>Water temperature</td><td>degrees Celsius</td><td>15.644</td><td>1</td></tr>\n",
       "\t<tr><td>PLOO_RTOMS</td><td>3</td><td>1.641024e+12</td><td>2022-01-01</td><td>20</td><td>Water temperature</td><td>degrees Celsius</td><td>15.648</td><td>1</td></tr>\n",
       "\t<tr><td>PLOO_RTOMS</td><td>3</td><td>1.641024e+12</td><td>2022-01-01</td><td>30</td><td>Water temperature</td><td>degrees Celsius</td><td>15.376</td><td>1</td></tr>\n",
       "\t<tr><td>PLOO_RTOMS</td><td>3</td><td>1.641024e+12</td><td>2022-01-01</td><td>45</td><td>Water temperature</td><td>degrees Celsius</td><td>13.385</td><td>1</td></tr>\n",
       "\t<tr><td>PLOO_RTOMS</td><td>3</td><td>1.641024e+12</td><td>2022-01-01</td><td>60</td><td>Water temperature</td><td>degrees Celsius</td><td>12.047</td><td>1</td></tr>\n",
       "</tbody>\n",
       "</table>\n"
      ],
      "text/latex": [
       "A tibble: 6 × 9\n",
       "\\begin{tabular}{lllllllll}\n",
       " project & Deployment\\# & unixtime\\_1000\\_gmt & datetime\\_pst & depth\\_m & parameter & units & value & qualifier\\_flag\\\\\n",
       " <chr> & <dbl> & <dbl> & <dttm> & <dbl> & <chr> & <chr> & <dbl> & <dbl>\\\\\n",
       "\\hline\n",
       "\t PLOO\\_RTOMS & 3 & 1.641024e+12 & 2022-01-01 &  1 & Water temperature & degrees Celsius & 15.635 & 1\\\\\n",
       "\t PLOO\\_RTOMS & 3 & 1.641024e+12 & 2022-01-01 &  9 & Water temperature & degrees Celsius & 15.644 & 1\\\\\n",
       "\t PLOO\\_RTOMS & 3 & 1.641024e+12 & 2022-01-01 & 20 & Water temperature & degrees Celsius & 15.648 & 1\\\\\n",
       "\t PLOO\\_RTOMS & 3 & 1.641024e+12 & 2022-01-01 & 30 & Water temperature & degrees Celsius & 15.376 & 1\\\\\n",
       "\t PLOO\\_RTOMS & 3 & 1.641024e+12 & 2022-01-01 & 45 & Water temperature & degrees Celsius & 13.385 & 1\\\\\n",
       "\t PLOO\\_RTOMS & 3 & 1.641024e+12 & 2022-01-01 & 60 & Water temperature & degrees Celsius & 12.047 & 1\\\\\n",
       "\\end{tabular}\n"
      ],
      "text/markdown": [
       "\n",
       "A tibble: 6 × 9\n",
       "\n",
       "| project &lt;chr&gt; | Deployment# &lt;dbl&gt; | unixtime_1000_gmt &lt;dbl&gt; | datetime_pst &lt;dttm&gt; | depth_m &lt;dbl&gt; | parameter &lt;chr&gt; | units &lt;chr&gt; | value &lt;dbl&gt; | qualifier_flag &lt;dbl&gt; |\n",
       "|---|---|---|---|---|---|---|---|---|\n",
       "| PLOO_RTOMS | 3 | 1.641024e+12 | 2022-01-01 |  1 | Water temperature | degrees Celsius | 15.635 | 1 |\n",
       "| PLOO_RTOMS | 3 | 1.641024e+12 | 2022-01-01 |  9 | Water temperature | degrees Celsius | 15.644 | 1 |\n",
       "| PLOO_RTOMS | 3 | 1.641024e+12 | 2022-01-01 | 20 | Water temperature | degrees Celsius | 15.648 | 1 |\n",
       "| PLOO_RTOMS | 3 | 1.641024e+12 | 2022-01-01 | 30 | Water temperature | degrees Celsius | 15.376 | 1 |\n",
       "| PLOO_RTOMS | 3 | 1.641024e+12 | 2022-01-01 | 45 | Water temperature | degrees Celsius | 13.385 | 1 |\n",
       "| PLOO_RTOMS | 3 | 1.641024e+12 | 2022-01-01 | 60 | Water temperature | degrees Celsius | 12.047 | 1 |\n",
       "\n"
      ],
      "text/plain": [
       "  project    Deployment# unixtime_1000_gmt datetime_pst depth_m\n",
       "1 PLOO_RTOMS 3           1.641024e+12      2022-01-01    1     \n",
       "2 PLOO_RTOMS 3           1.641024e+12      2022-01-01    9     \n",
       "3 PLOO_RTOMS 3           1.641024e+12      2022-01-01   20     \n",
       "4 PLOO_RTOMS 3           1.641024e+12      2022-01-01   30     \n",
       "5 PLOO_RTOMS 3           1.641024e+12      2022-01-01   45     \n",
       "6 PLOO_RTOMS 3           1.641024e+12      2022-01-01   60     \n",
       "  parameter         units           value  qualifier_flag\n",
       "1 Water temperature degrees Celsius 15.635 1             \n",
       "2 Water temperature degrees Celsius 15.644 1             \n",
       "3 Water temperature degrees Celsius 15.648 1             \n",
       "4 Water temperature degrees Celsius 15.376 1             \n",
       "5 Water temperature degrees Celsius 13.385 1             \n",
       "6 Water temperature degrees Celsius 12.047 1             "
      ]
     },
     "metadata": {},
     "output_type": "display_data"
    }
   ],
   "source": [
    "# convert the start date string into a POSIXct object\n",
    "df$datetime_pst <- as.POSIXct(df$datetime_pst, format='%Y-%m-%d %H:%M:%S')\n",
    "head(df)"
   ]
  },
  {
   "cell_type": "markdown",
   "id": "80e29a1d",
   "metadata": {},
   "source": [
    "## Create subsets of the df for each depth "
   ]
  },
  {
   "cell_type": "code",
   "execution_count": 11,
   "id": "fd855b68",
   "metadata": {},
   "outputs": [],
   "source": [
    "## splice data for each depth ##\n",
    "df_1m <- subset(df, depth_m==1)\n",
    "df_9m <- subset(df, depth_m==9)\n",
    "df_20m <- subset(df, depth_m==20)\n",
    "df_30m <- subset(df, depth_m==30)\n",
    "df_45m <- subset(df, depth_m==45)\n",
    "df_60m <- subset(df, depth_m==60)\n",
    "df_74m <- subset(df, depth_m==74)\n",
    "df_87m <- subset(df, depth_m==87)"
   ]
  },
  {
   "cell_type": "markdown",
   "id": "bd56ca15",
   "metadata": {},
   "source": [
    "## Temperature distrobution summaries by depth"
   ]
  },
  {
   "cell_type": "code",
   "execution_count": 12,
   "id": "fcc11a5c",
   "metadata": {},
   "outputs": [
    {
     "data": {
      "text/html": [
       "<table class=\"dataframe\">\n",
       "<caption>A data.frame: 8 × 8</caption>\n",
       "<thead>\n",
       "\t<tr><th scope=col>Depth</th><th scope=col>Min.</th><th scope=col>1st Qu.</th><th scope=col>Median</th><th scope=col>Mean</th><th scope=col>3rd Qu.</th><th scope=col>Max.</th><th scope=col>NA's</th></tr>\n",
       "\t<tr><th scope=col>&lt;list&gt;</th><th scope=col>&lt;dbl&gt;</th><th scope=col>&lt;dbl&gt;</th><th scope=col>&lt;dbl&gt;</th><th scope=col>&lt;dbl&gt;</th><th scope=col>&lt;dbl&gt;</th><th scope=col>&lt;dbl&gt;</th><th scope=col>&lt;dbl&gt;</th></tr>\n",
       "</thead>\n",
       "<tbody>\n",
       "\t<tr><td>1</td><td>12.777</td><td>15.6400</td><td>17.6805</td><td>18.40398</td><td>21.119</td><td>24.720</td><td>9376</td></tr>\n",
       "\t<tr><td>9</td><td>11.125</td><td>15.1830</td><td>16.1900</td><td>16.62779</td><td>18.164</td><td>23.646</td><td> 404</td></tr>\n",
       "\t<tr><td>20</td><td>10.317</td><td>13.1120</td><td>14.3320</td><td>14.21609</td><td>15.160</td><td>21.549</td><td> 512</td></tr>\n",
       "\t<tr><td>30</td><td> 9.906</td><td>11.7750</td><td>12.8400</td><td>12.94635</td><td>14.012</td><td>19.420</td><td>3805</td></tr>\n",
       "\t<tr><td>45</td><td> 9.584</td><td>10.9855</td><td>11.8040</td><td>11.88138</td><td>12.641</td><td>17.646</td><td> 479</td></tr>\n",
       "\t<tr><td>60</td><td> 9.476</td><td>10.4610</td><td>11.2240</td><td>11.25414</td><td>11.962</td><td>15.864</td><td> 497</td></tr>\n",
       "\t<tr><td>74</td><td> 9.419</td><td>10.1850</td><td>10.8110</td><td>10.83222</td><td>11.337</td><td>14.632</td><td>1010</td></tr>\n",
       "\t<tr><td>87</td><td> 9.409</td><td>10.1000</td><td>10.6440</td><td>10.67014</td><td>11.160</td><td>14.039</td><td> 600</td></tr>\n",
       "</tbody>\n",
       "</table>\n"
      ],
      "text/latex": [
       "A data.frame: 8 × 8\n",
       "\\begin{tabular}{llllllll}\n",
       " Depth & Min. & 1st Qu. & Median & Mean & 3rd Qu. & Max. & NA's\\\\\n",
       " <list> & <dbl> & <dbl> & <dbl> & <dbl> & <dbl> & <dbl> & <dbl>\\\\\n",
       "\\hline\n",
       "\t 1 & 12.777 & 15.6400 & 17.6805 & 18.40398 & 21.119 & 24.720 & 9376\\\\\n",
       "\t 9 & 11.125 & 15.1830 & 16.1900 & 16.62779 & 18.164 & 23.646 &  404\\\\\n",
       "\t 20 & 10.317 & 13.1120 & 14.3320 & 14.21609 & 15.160 & 21.549 &  512\\\\\n",
       "\t 30 &  9.906 & 11.7750 & 12.8400 & 12.94635 & 14.012 & 19.420 & 3805\\\\\n",
       "\t 45 &  9.584 & 10.9855 & 11.8040 & 11.88138 & 12.641 & 17.646 &  479\\\\\n",
       "\t 60 &  9.476 & 10.4610 & 11.2240 & 11.25414 & 11.962 & 15.864 &  497\\\\\n",
       "\t 74 &  9.419 & 10.1850 & 10.8110 & 10.83222 & 11.337 & 14.632 & 1010\\\\\n",
       "\t 87 &  9.409 & 10.1000 & 10.6440 & 10.67014 & 11.160 & 14.039 &  600\\\\\n",
       "\\end{tabular}\n"
      ],
      "text/markdown": [
       "\n",
       "A data.frame: 8 × 8\n",
       "\n",
       "| Depth &lt;list&gt; | Min. &lt;dbl&gt; | 1st Qu. &lt;dbl&gt; | Median &lt;dbl&gt; | Mean &lt;dbl&gt; | 3rd Qu. &lt;dbl&gt; | Max. &lt;dbl&gt; | NA's &lt;dbl&gt; |\n",
       "|---|---|---|---|---|---|---|---|\n",
       "| 1 | 12.777 | 15.6400 | 17.6805 | 18.40398 | 21.119 | 24.720 | 9376 |\n",
       "| 9 | 11.125 | 15.1830 | 16.1900 | 16.62779 | 18.164 | 23.646 |  404 |\n",
       "| 20 | 10.317 | 13.1120 | 14.3320 | 14.21609 | 15.160 | 21.549 |  512 |\n",
       "| 30 |  9.906 | 11.7750 | 12.8400 | 12.94635 | 14.012 | 19.420 | 3805 |\n",
       "| 45 |  9.584 | 10.9855 | 11.8040 | 11.88138 | 12.641 | 17.646 |  479 |\n",
       "| 60 |  9.476 | 10.4610 | 11.2240 | 11.25414 | 11.962 | 15.864 |  497 |\n",
       "| 74 |  9.419 | 10.1850 | 10.8110 | 10.83222 | 11.337 | 14.632 | 1010 |\n",
       "| 87 |  9.409 | 10.1000 | 10.6440 | 10.67014 | 11.160 | 14.039 |  600 |\n",
       "\n"
      ],
      "text/plain": [
       "  Depth Min.   1st Qu. Median  Mean     3rd Qu. Max.   NA's\n",
       "1 1     12.777 15.6400 17.6805 18.40398 21.119  24.720 9376\n",
       "2 9     11.125 15.1830 16.1900 16.62779 18.164  23.646  404\n",
       "3 20    10.317 13.1120 14.3320 14.21609 15.160  21.549  512\n",
       "4 30     9.906 11.7750 12.8400 12.94635 14.012  19.420 3805\n",
       "5 45     9.584 10.9855 11.8040 11.88138 12.641  17.646  479\n",
       "6 60     9.476 10.4610 11.2240 11.25414 11.962  15.864  497\n",
       "7 74     9.419 10.1850 10.8110 10.83222 11.337  14.632 1010\n",
       "8 87     9.409 10.1000 10.6440 10.67014 11.160  14.039  600"
      ]
     },
     "metadata": {},
     "output_type": "display_data"
    }
   ],
   "source": [
    "#Create empty data frame\n",
    "output = data.frame()\n",
    "\n",
    "# add the summary table for each depth to the output df\n",
    "depths_df <- list(df_1m, df_9m, df_20m, df_30m, df_45m, df_60m, df_74m, df_87m)\n",
    "for (x in depths_df) {\n",
    "  sum = summary(x$value)\n",
    "  output = rbind(output,sum)\n",
    "}\n",
    "\n",
    "# name columns\n",
    "colnames(output) = c(\"Min.\",\"1st Qu.\",\"Median\",\"Mean\",\"3rd Qu.\",\"Max.\", \"NA's\")\n",
    "\n",
    "# add a cxolumn to label depth\n",
    "depths <- list(1, 9, 20, 30, 45, 60, 74, 87)\n",
    "output$Depth <- depths\n",
    "output <- output[c(\"Depth\",\"Min.\",\"1st Qu.\",\"Median\",\"Mean\",\"3rd Qu.\",\"Max.\", \"NA's\")]\n",
    "output"
   ]
  },
  {
   "cell_type": "markdown",
   "id": "ff3dba9a",
   "metadata": {},
   "source": [
    "## Null values - replace using imputation"
   ]
  },
  {
   "cell_type": "code",
   "execution_count": 13,
   "id": "9e9b5ca4",
   "metadata": {},
   "outputs": [
    {
     "name": "stdout",
     "output_type": "stream",
     "text": [
      "[1] 9376\n",
      "[1] 404\n",
      "[1] 512\n",
      "[1] 3805\n",
      "[1] 479\n",
      "[1] 497\n",
      "[1] 1010\n",
      "[1] 600\n"
     ]
    }
   ],
   "source": [
    "for (x in depths_df) {print(sum(is.na(x)))}   "
   ]
  },
  {
   "cell_type": "code",
   "execution_count": 14,
   "id": "fe7bda93",
   "metadata": {},
   "outputs": [],
   "source": [
    "impute_null_with_average <- function(x, y) {\n",
    "  if (is.na(x)) {\n",
    "    previous_index <- which(!is.na(y))[1]\n",
    "    next_index <- which(!is.na(y))[2]\n",
    "    if (!is.na(previous_index) && !is.na(next_index)) {\n",
    "      previous_value <- y[previous_index]\n",
    "      next_value <- y[next_index]\n",
    "      return((previous_value + next_value) / 2) \n",
    "    }\n",
    "  }\n",
    "  return(x) \n",
    "}"
   ]
  },
  {
   "cell_type": "code",
   "execution_count": 15,
   "id": "33278f6a",
   "metadata": {},
   "outputs": [],
   "source": [
    "# apply the function to impute null values\n",
    "df_1m <- df_1m %>% rowwise() %>% mutate(value = impute_null_with_average(value, df_1m$value))\n",
    "df_9m <- df_9m %>% rowwise() %>% mutate(value = impute_null_with_average(value, df_9m$value))\n",
    "df_20m <- df_20m %>% rowwise() %>% mutate(value = impute_null_with_average(value, df_20m$value))\n",
    "df_30m <- df_30m %>% rowwise() %>% mutate(value = impute_null_with_average(value, df_30m$value))\n",
    "df_45m <- df_45m %>% rowwise() %>% mutate(value = impute_null_with_average(value, df_45m$value))\n",
    "df_60m <- df_60m %>% rowwise() %>% mutate(value = impute_null_with_average(value, df_60m$value))\n",
    "df_74m <- df_74m %>% rowwise() %>% mutate(value = impute_null_with_average(value, df_74m$value))\n",
    "df_87m <- df_87m %>% rowwise() %>% mutate(value = impute_null_with_average(value, df_87m$value))"
   ]
  },
  {
   "cell_type": "code",
   "execution_count": 16,
   "id": "3e1c517b",
   "metadata": {},
   "outputs": [
    {
     "name": "stdout",
     "output_type": "stream",
     "text": [
      "[1] 0\n",
      "[1] 0\n",
      "[1] 0\n",
      "[1] 0\n",
      "[1] 0\n",
      "[1] 0\n",
      "[1] 0\n",
      "[1] 0\n"
     ]
    }
   ],
   "source": [
    "for (y in depths_df) {print(sum(is.na(df_9m)))}"
   ]
  },
  {
   "cell_type": "markdown",
   "id": "864b0b81",
   "metadata": {},
   "source": [
    "## Create a timeseries for each depth "
   ]
  },
  {
   "cell_type": "code",
   "execution_count": 17,
   "id": "4be66df4",
   "metadata": {},
   "outputs": [],
   "source": [
    "# Create time series object\n",
    "df_1m_ts <- ts(df_1m$value)\n",
    "df_9m_ts <- ts(df_9m$value)\n",
    "df_20m_ts <- ts(df_20m$value)\n",
    "df_30m_ts <- ts(df_30m$value)\n",
    "df_45m_ts <- ts(df_45m$value)\n",
    "df_60m_ts <- ts(df_60m$value)\n",
    "df_74m_ts <- ts(df_74m$value)\n",
    "df_87m_ts <- ts(df_87m$value)"
   ]
  },
  {
   "cell_type": "markdown",
   "id": "66828216",
   "metadata": {},
   "source": [
    "## Visualize all time-series together"
   ]
  },
  {
   "cell_type": "code",
   "execution_count": 18,
   "id": "35cd0227",
   "metadata": {},
   "outputs": [
    {
     "data": {
      "image/png": "[encoded data removed]",
      "text/plain": [
       "plot without title"
      ]
     },
     "metadata": {
      "image/png": {
       "height": 420,
       "width": 420
      }
     },
     "output_type": "display_data"
    }
   ],
   "source": [
    "# plot all depths\n",
    "autoplot(df_1m_ts, main='Real-time Oceanographic Mooring System: Point Loma Ocean 2022', \n",
    "    series='1m depth', ylab='Water Temperature (Degrees Celsius)') + \n",
    "    autolayer(df_9m_ts, series='9m depth') +\n",
    "    autolayer(df_20m_ts, series='20m depth') +\n",
    "    autolayer(df_30m_ts, series='30m depth') +\n",
    "    autolayer(df_45m_ts, series='45m depth') +\n",
    "    autolayer(df_60m_ts, series='60m depth') +\n",
    "    autolayer(df_74m_ts, series='74m depth') +\n",
    "    autolayer(df_87m_ts, series='87m depth')"
   ]
  },
  {
   "cell_type": "markdown",
   "id": "c4a5982d",
   "metadata": {},
   "source": [
    "## Visualize individual time-series depths"
   ]
  },
  {
   "cell_type": "code",
   "execution_count": 19,
   "id": "8e898d1a",
   "metadata": {},
   "outputs": [
    {
     "data": {
      "image/png": "[encoded data removed]",
      "text/plain": [
       "plot without title"
      ]
     },
     "metadata": {
      "image/png": {
       "height": 420,
       "width": 420
      }
     },
     "output_type": "display_data"
    }
   ],
   "source": [
    "depths_ts <- list(df_1m_ts, df_9m_ts, \n",
    "                  df_20m_ts, df_30m_ts, \n",
    "                  df_45m_ts, df_60m_ts, \n",
    "                  df_74m_ts, df_87m_ts)\n",
    "\n",
    "n = 1\n",
    "myplots <- list()\n",
    "for (x in depths_ts) {\n",
    "    y <- autoplot(x, main=paste0('RTOMS Readings at ', \n",
    "        depths[[n]] ,'m'), ylab='Water Temperature (Degrees Celsius)')\n",
    "    myplots[[n]] <- y\n",
    "    n = n +1\n",
    "}\n",
    "\n",
    "len <- length(myplots)\n",
    "nCol <- floor(sqrt(len))\n",
    "do.call(\"grid.arrange\", c(myplots, ncol=nCol))"
   ]
  },
  {
   "cell_type": "markdown",
   "id": "06ecb2c8",
   "metadata": {},
   "source": [
    "## Visualize individual depth histograms"
   ]
  },
  {
   "cell_type": "code",
   "execution_count": 20,
   "id": "8ae40380",
   "metadata": {},
   "outputs": [
    {
     "data": {
      "image/png": "[encoded data removed]",
      "text/plain": [
       "Plot with title \"87m\""
      ]
     },
     "metadata": {
      "image/png": {
       "height": 420,
       "width": 420
      }
     },
     "output_type": "display_data"
    }
   ],
   "source": [
    "# see distribution of water temperatures\n",
    "par(mfrow=c(2,4))\n",
    "hist(df_1m$value, main='1m', xlab= 'Water Temperature (Degrees Celsius)')\n",
    "hist(df_9m$value, main='9m', xlab= 'Water Temperature (Degrees Celsius)')\n",
    "hist(df_20m$value, main='20m', xlab= 'Water Temperature (Degrees Celsius)')\n",
    "hist(df_30m$value, main='30m', xlab= 'Water Temperature (Degrees Celsius)')\n",
    "hist(df_45m$value, main='45m', xlab= 'Water Temperature (Degrees Celsius)')\n",
    "hist(df_60m$value, main='60m', xlab= 'Water Temperature (Degrees Celsius)')\n",
    "hist(df_74m$value, main='74m', xlab= 'Water Temperature (Degrees Celsius)')\n",
    "hist(df_87m$value, main='87m', xlab= 'Water Temperature (Degrees Celsius)')"
   ]
  },
  {
   "cell_type": "markdown",
   "id": "ab936dfe",
   "metadata": {},
   "source": [
    "## Calculate daily averages then make time series for each depth"
   ]
  },
  {
   "cell_type": "code",
   "execution_count": 21,
   "id": "754a460f",
   "metadata": {},
   "outputs": [],
   "source": [
    "## 9m ##\n",
    "daily_avg_1m <- df_1m %>% group_by(date=as.Date(datetime_pst)) %>% \n",
    "    summarize(avg_value = mean(value, na.rm=TRUE))\n",
    "daily_avg_9m <- df_9m %>% group_by(date=as.Date(datetime_pst)) %>% \n",
    "    summarize(avg_value = mean(value, na.rm=TRUE))\n",
    "daily_avg_20m <- df_20m %>% group_by(date=as.Date(datetime_pst)) %>% \n",
    "    summarize(avg_value = mean(value, na.rm=TRUE))\n",
    "daily_avg_30m <- df_30m %>% group_by(date=as.Date(datetime_pst)) %>% \n",
    "    summarize(avg_value = mean(value, na.rm=TRUE))\n",
    "daily_avg_45m <- df_45m %>% group_by(date=as.Date(datetime_pst)) %>% \n",
    "    summarize(avg_value = mean(value, na.rm=TRUE))\n",
    "daily_avg_60m <- df_60m %>% group_by(date=as.Date(datetime_pst)) %>% \n",
    "    summarize(avg_value = mean(value, na.rm=TRUE))\n",
    "daily_avg_74m <- df_74m %>% group_by(date=as.Date(datetime_pst)) %>% \n",
    "    summarize(avg_value = mean(value, na.rm=TRUE))\n",
    "daily_avg_87m <- df_87m %>% group_by(date=as.Date(datetime_pst)) %>% \n",
    "    summarize(avg_value = mean(value, na.rm=TRUE))"
   ]
  },
  {
   "cell_type": "code",
   "execution_count": 22,
   "id": "76706e90",
   "metadata": {},
   "outputs": [],
   "source": [
    "daily_avg_1m_ts <- ts(daily_avg_1m$avg_value, frequency=365, start=c(2022,1,1))\n",
    "daily_avg_9m_ts <- ts(daily_avg_9m$avg_value, frequency=365, start=c(2022,1,1))\n",
    "daily_avg_20m_ts <- ts(daily_avg_20m$avg_value, frequency=365, start=c(2022,1,1))\n",
    "daily_avg_30m_ts <- ts(daily_avg_30m$avg_value, frequency=365, start=c(2022,1,1))\n",
    "daily_avg_45m_ts <- ts(daily_avg_45m$avg_value, frequency=365, start=c(2022,1,1))\n",
    "daily_avg_60m_ts <- ts(daily_avg_60m$avg_value, frequency=365, start=c(2022,1,1))\n",
    "daily_avg_74m_ts <- ts(daily_avg_74m$avg_value, frequency=365, start=c(2022,1,1))\n",
    "daily_avg_87m_ts <- ts(daily_avg_87m$avg_value, frequency=365, start=c(2022,1,1))"
   ]
  },
  {
   "cell_type": "markdown",
   "id": "27b3dd1a",
   "metadata": {},
   "source": [
    "## Plot Daily Averages"
   ]
  },
  {
   "cell_type": "code",
   "execution_count": 23,
   "id": "086fdd3b",
   "metadata": {},
   "outputs": [
    {
     "data": {
      "image/png": "[encoded data removed]",
      "text/plain": [
       "plot without title"
      ]
     },
     "metadata": {
      "image/png": {
       "height": 420,
       "width": 420
      }
     },
     "output_type": "display_data"
    }
   ],
   "source": [
    "average_ts <- list(daily_avg_1m_ts, daily_avg_9m_ts, \n",
    "                   daily_avg_20m_ts, daily_avg_30m_ts, \n",
    "                   daily_avg_45m_ts, daily_avg_60m_ts, \n",
    "                   daily_avg_74m_ts, daily_avg_87m_ts)\n",
    "\n",
    "n = 1\n",
    "myplots_avg <- list()\n",
    "for (x in average_ts) {\n",
    "    y <- autoplot(x, main=paste0('Daily Average at ', depths[[n]] ,'m'), \n",
    "                  ylab='Water Temperature (Degrees Celsius)')\n",
    "    myplots_avg[[n]] <- y\n",
    "    n = n +1\n",
    "}\n",
    "\n",
    "len <- length(myplots_avg)\n",
    "nCol <- floor(sqrt(len))\n",
    "do.call(\"grid.arrange\", c(myplots_avg, ncol=nCol))"
   ]
  },
  {
   "cell_type": "markdown",
   "id": "b7a3e065",
   "metadata": {},
   "source": [
    "# Differencing\n",
    "## differenced time-series summmary dataframe"
   ]
  },
  {
   "cell_type": "code",
   "execution_count": 26,
   "id": "cfeea7d3",
   "metadata": {},
   "outputs": [],
   "source": [
    "df_1m_diff <- diff(df_1m_ts, frequency=365,start=c(2022,1,1))\n",
    "df_9m_diff <- diff(df_9m_ts, frequency=365,start=c(2022,1,1))\n",
    "df_20m_diff <- diff(df_20m_ts, frequency=365,start=c(2022,1,1))\n",
    "df_30m_diff <- diff(df_30m_ts, frequency=365,start=c(2022,1,1))\n",
    "df_45m_diff <- diff(df_45m_ts, frequency=365,start=c(2022,1,1))\n",
    "df_60m_diff <- diff(df_60m_ts, frequency=365,start=c(2022,1,1))\n",
    "df_74m_diff <- diff(df_74m_ts, frequency=365,start=c(2022,1,1))\n",
    "df_87m_diff <- diff(df_87m_ts, frequency=365,start=c(2022,1,1))"
   ]
  },
  {
   "cell_type": "code",
   "execution_count": 27,
   "id": "334e8e00",
   "metadata": {},
   "outputs": [
    {
     "data": {
      "text/html": [
       "<table class=\"dataframe\">\n",
       "<caption>A data.frame: 8 × 7</caption>\n",
       "<thead>\n",
       "\t<tr><th scope=col>Depth</th><th scope=col>Min.</th><th scope=col>1st Qu.</th><th scope=col>Median</th><th scope=col>Mean</th><th scope=col>3rd Qu.</th><th scope=col>Max.</th></tr>\n",
       "\t<tr><th scope=col>&lt;list&gt;</th><th scope=col>&lt;dbl&gt;</th><th scope=col>&lt;dbl&gt;</th><th scope=col>&lt;dbl&gt;</th><th scope=col>&lt;dbl&gt;</th><th scope=col>&lt;dbl&gt;</th><th scope=col>&lt;dbl&gt;</th></tr>\n",
       "</thead>\n",
       "<tbody>\n",
       "\t<tr><td>1</td><td>-8.6905</td><td>-0.013</td><td> 0.000</td><td>-7.882721e-06</td><td>0.010</td><td>8.8285</td></tr>\n",
       "\t<tr><td>9</td><td>-5.9290</td><td>-0.096</td><td>-0.001</td><td>-8.783487e-08</td><td>0.083</td><td>6.2430</td></tr>\n",
       "\t<tr><td>20</td><td>-5.2205</td><td>-0.099</td><td> 0.000</td><td>-2.997482e-05</td><td>0.092</td><td>5.2625</td></tr>\n",
       "\t<tr><td>30</td><td>-5.1780</td><td>-0.074</td><td> 0.000</td><td>-2.868492e-05</td><td>0.069</td><td>5.1850</td></tr>\n",
       "\t<tr><td>45</td><td>-4.0375</td><td>-0.052</td><td> 0.000</td><td>-3.992547e-06</td><td>0.048</td><td>4.0695</td></tr>\n",
       "\t<tr><td>60</td><td>-3.3955</td><td>-0.037</td><td>-0.001</td><td> 1.158862e-05</td><td>0.034</td><td>3.1225</td></tr>\n",
       "\t<tr><td>74</td><td>-2.4750</td><td>-0.019</td><td> 0.000</td><td>-5.270092e-07</td><td>0.018</td><td>2.5780</td></tr>\n",
       "\t<tr><td>87</td><td>-2.0260</td><td>-0.011</td><td> 0.001</td><td>-4.896794e-06</td><td>0.013</td><td>2.0840</td></tr>\n",
       "</tbody>\n",
       "</table>\n"
      ],
      "text/latex": [
       "A data.frame: 8 × 7\n",
       "\\begin{tabular}{lllllll}\n",
       " Depth & Min. & 1st Qu. & Median & Mean & 3rd Qu. & Max.\\\\\n",
       " <list> & <dbl> & <dbl> & <dbl> & <dbl> & <dbl> & <dbl>\\\\\n",
       "\\hline\n",
       "\t 1 & -8.6905 & -0.013 &  0.000 & -7.882721e-06 & 0.010 & 8.8285\\\\\n",
       "\t 9 & -5.9290 & -0.096 & -0.001 & -8.783487e-08 & 0.083 & 6.2430\\\\\n",
       "\t 20 & -5.2205 & -0.099 &  0.000 & -2.997482e-05 & 0.092 & 5.2625\\\\\n",
       "\t 30 & -5.1780 & -0.074 &  0.000 & -2.868492e-05 & 0.069 & 5.1850\\\\\n",
       "\t 45 & -4.0375 & -0.052 &  0.000 & -3.992547e-06 & 0.048 & 4.0695\\\\\n",
       "\t 60 & -3.3955 & -0.037 & -0.001 &  1.158862e-05 & 0.034 & 3.1225\\\\\n",
       "\t 74 & -2.4750 & -0.019 &  0.000 & -5.270092e-07 & 0.018 & 2.5780\\\\\n",
       "\t 87 & -2.0260 & -0.011 &  0.001 & -4.896794e-06 & 0.013 & 2.0840\\\\\n",
       "\\end{tabular}\n"
      ],
      "text/markdown": [
       "\n",
       "A data.frame: 8 × 7\n",
       "\n",
       "| Depth &lt;list&gt; | Min. &lt;dbl&gt; | 1st Qu. &lt;dbl&gt; | Median &lt;dbl&gt; | Mean &lt;dbl&gt; | 3rd Qu. &lt;dbl&gt; | Max. &lt;dbl&gt; |\n",
       "|---|---|---|---|---|---|---|\n",
       "| 1 | -8.6905 | -0.013 |  0.000 | -7.882721e-06 | 0.010 | 8.8285 |\n",
       "| 9 | -5.9290 | -0.096 | -0.001 | -8.783487e-08 | 0.083 | 6.2430 |\n",
       "| 20 | -5.2205 | -0.099 |  0.000 | -2.997482e-05 | 0.092 | 5.2625 |\n",
       "| 30 | -5.1780 | -0.074 |  0.000 | -2.868492e-05 | 0.069 | 5.1850 |\n",
       "| 45 | -4.0375 | -0.052 |  0.000 | -3.992547e-06 | 0.048 | 4.0695 |\n",
       "| 60 | -3.3955 | -0.037 | -0.001 |  1.158862e-05 | 0.034 | 3.1225 |\n",
       "| 74 | -2.4750 | -0.019 |  0.000 | -5.270092e-07 | 0.018 | 2.5780 |\n",
       "| 87 | -2.0260 | -0.011 |  0.001 | -4.896794e-06 | 0.013 | 2.0840 |\n",
       "\n"
      ],
      "text/plain": [
       "  Depth Min.    1st Qu. Median Mean          3rd Qu. Max.  \n",
       "1 1     -8.6905 -0.013   0.000 -7.882721e-06 0.010   8.8285\n",
       "2 9     -5.9290 -0.096  -0.001 -8.783487e-08 0.083   6.2430\n",
       "3 20    -5.2205 -0.099   0.000 -2.997482e-05 0.092   5.2625\n",
       "4 30    -5.1780 -0.074   0.000 -2.868492e-05 0.069   5.1850\n",
       "5 45    -4.0375 -0.052   0.000 -3.992547e-06 0.048   4.0695\n",
       "6 60    -3.3955 -0.037  -0.001  1.158862e-05 0.034   3.1225\n",
       "7 74    -2.4750 -0.019   0.000 -5.270092e-07 0.018   2.5780\n",
       "8 87    -2.0260 -0.011   0.001 -4.896794e-06 0.013   2.0840"
      ]
     },
     "metadata": {},
     "output_type": "display_data"
    }
   ],
   "source": [
    "#Create empty data frame\n",
    "diff_df = data.frame()\n",
    "\n",
    "# add the summary table for each depth to the output df\n",
    "diff_dfs <- list(df_1m_diff, df_9m_diff, df_20m_diff, df_30m_diff, df_45m_diff, df_60m_diff, df_74m_diff, df_87m_diff)\n",
    "for (x in diff_dfs) {\n",
    "  sum = summary(x)\n",
    "  diff_df = rbind(diff_df,sum)\n",
    "}\n",
    "\n",
    "# name columns\n",
    "colnames(diff_df) = c(\"Min.\",\"1st Qu.\",\"Median\",\"Mean\",\"3rd Qu.\",\"Max.\")\n",
    "\n",
    "# add a cxolumn to label depth\n",
    "diff_df$Depth <- depths\n",
    "diff_df <- diff_df[c(\"Depth\",\"Min.\",\"1st Qu.\",\"Median\",\"Mean\",\"3rd Qu.\",\"Max.\")]\n",
    "diff_df"
   ]
  },
  {
   "cell_type": "markdown",
   "id": "a93507c7",
   "metadata": {},
   "source": [
    "## ACF plots for the differenced time series at each depth"
   ]
  },
  {
   "cell_type": "code",
   "execution_count": 32,
   "id": "19b38af3",
   "metadata": {},
   "outputs": [
    {
     "data": {
      "image/png": "[encoded data removed]",
      "text/plain": [
       "Plot with title \"ACF of Differenced Time Series\""
      ]
     },
     "metadata": {
      "image/png": {
       "height": 420,
       "width": 420
      }
     },
     "output_type": "display_data"
    }
   ],
   "source": [
    "par(mfrow=c(2, 4))\n",
    "# the other fxn to make a nice grid doesnt work with the acf graphs\n",
    "for (z in diff_dfs) {\n",
    "    acf(z, main = \"ACF of Differenced Time Series\")\n",
    "}"
   ]
  },
  {
   "cell_type": "markdown",
   "id": "0e582b86",
   "metadata": {},
   "source": [
    "## PACF plots for the differenced time series at each depth"
   ]
  },
  {
   "cell_type": "code",
   "execution_count": 34,
   "id": "1ef8012c",
   "metadata": {},
   "outputs": [
    {
     "data": {
      "image/png": "[encoded data removed]",
      "text/plain": [
       "Plot with title \"PACF of Differenced Time Series\""
      ]
     },
     "metadata": {
      "image/png": {
       "height": 420,
       "width": 420
      }
     },
     "output_type": "display_data"
    }
   ],
   "source": [
    "par(mfrow=c(2, 4))\n",
    "for (z in diff_dfs) {    \n",
    "    pacf(z, main = \"PACF of Differenced Time Series\")\n",
    "}"
   ]
  },
  {
   "cell_type": "markdown",
   "id": "10eae797",
   "metadata": {},
   "source": [
    "# Joel Model"
   ]
  },
  {
   "cell_type": "markdown",
   "id": "5767999e",
   "metadata": {},
   "source": [
    "## Model 1 - Neural Network (nn_model)\n",
    "### Neural Networks perform worse when using differencing. Exponential smoothing is prefered. \n",
    "\n",
    "### Chosen Time Series - Daily Average Temperatures at 45m Deep"
   ]
  },
  {
   "cell_type": "code",
   "execution_count": 76,
   "id": "33ea8830",
   "metadata": {},
   "outputs": [],
   "source": [
    "chosen_ts <- daily_avg_45m_ts"
   ]
  },
  {
   "cell_type": "markdown",
   "id": "f3cbbfaa",
   "metadata": {},
   "source": [
    "### Plot the chosen timeseries"
   ]
  },
  {
   "cell_type": "code",
   "execution_count": 77,
   "id": "f3783bd6",
   "metadata": {},
   "outputs": [
    {
     "data": {
      "image/png": "[encoded data removed]",
      "text/plain": [
       "plot without title"
      ]
     },
     "metadata": {
      "image/png": {
       "height": 420,
       "width": 420
      }
     },
     "output_type": "display_data"
    }
   ],
   "source": [
    "autoplot(chosen_ts, main=paste0('Daily Average at ', 45 ,'m'), ylab='Water Temperature (Degrees Celsius)')"
   ]
  },
  {
   "cell_type": "markdown",
   "id": "41395f81",
   "metadata": {},
   "source": [
    "### Partition the TimeSeries"
   ]
  },
  {
   "cell_type": "code",
   "execution_count": 80,
   "id": "a44342f7",
   "metadata": {},
   "outputs": [],
   "source": [
    "valid <- 7\n",
    "train <- length(chosen_ts) - valid\n",
    "train.ts <- window(chosen_ts, end = c(2022, train))\n",
    "valid.ts <- window(chosen_ts, start = c(2022, train + 1), end = c(2022, train + valid))"
   ]
  },
  {
   "cell_type": "code",
   "execution_count": 82,
   "id": "eb5da165",
   "metadata": {},
   "outputs": [
    {
     "data": {
      "text/html": [
       "342"
      ],
      "text/latex": [
       "342"
      ],
      "text/markdown": [
       "342"
      ],
      "text/plain": [
       "[1] 342"
      ]
     },
     "metadata": {},
     "output_type": "display_data"
    }
   ],
   "source": [
    "length(train.ts)"
   ]
  },
  {
   "cell_type": "code",
   "execution_count": 83,
   "id": "7d911bcd",
   "metadata": {},
   "outputs": [
    {
     "data": {
      "text/html": [
       "7"
      ],
      "text/latex": [
       "7"
      ],
      "text/markdown": [
       "7"
      ],
      "text/plain": [
       "[1] 7"
      ]
     },
     "metadata": {},
     "output_type": "display_data"
    }
   ],
   "source": [
    "length(valid.ts)"
   ]
  },
  {
   "cell_type": "markdown",
   "id": "4c7d969a",
   "metadata": {},
   "source": [
    "## Initiate the model\n",
    "### This series is too short for seasonal lags. Therefore P = 0"
   ]
  },
  {
   "cell_type": "code",
   "execution_count": 84,
   "id": "d2e7be3b",
   "metadata": {},
   "outputs": [
    {
     "data": {
      "text/plain": [
       "          Length Class        Mode     \n",
       "x         342    ts           numeric  \n",
       "m           1    -none-       numeric  \n",
       "p           1    -none-       numeric  \n",
       "P           1    -none-       numeric  \n",
       "scalex      2    -none-       list     \n",
       "size        1    -none-       numeric  \n",
       "subset    342    -none-       numeric  \n",
       "model      20    nnetarmodels list     \n",
       "nnetargs    0    -none-       list     \n",
       "fitted    342    ts           numeric  \n",
       "residuals 342    ts           numeric  \n",
       "lags        7    -none-       numeric  \n",
       "series      1    -none-       character\n",
       "method      1    -none-       character\n",
       "call        6    -none-       call     "
      ]
     },
     "metadata": {},
     "output_type": "display_data"
    }
   ],
   "source": [
    "set.seed(201)\n",
    "nn_model <- nnetar(train.ts, repeats = 20, p = 7, P = 0, size = 5)\n",
    "summary(nn_model)"
   ]
  },
  {
   "cell_type": "markdown",
   "id": "34bf0d60",
   "metadata": {},
   "source": [
    "## the forecasting period should equal the validation period. I used a week. "
   ]
  },
  {
   "cell_type": "code",
   "execution_count": 86,
   "id": "a27a4f2b",
   "metadata": {},
   "outputs": [],
   "source": [
    "nn_model_pred <- forecast(train.ts, h = 7)"
   ]
  },
  {
   "cell_type": "code",
   "execution_count": 89,
   "id": "30c4ec13",
   "metadata": {},
   "outputs": [
    {
     "data": {
      "text/html": [
       "<table class=\"dataframe\">\n",
       "<caption>A matrix: 2 × 8 of type dbl</caption>\n",
       "<thead>\n",
       "\t<tr><th></th><th scope=col>ME</th><th scope=col>RMSE</th><th scope=col>MAE</th><th scope=col>MPE</th><th scope=col>MAPE</th><th scope=col>MASE</th><th scope=col>ACF1</th><th scope=col>Theil's U</th></tr>\n",
       "</thead>\n",
       "<tbody>\n",
       "\t<tr><th scope=row>Training set</th><td>-0.002859152</td><td>0.3152058</td><td>0.1645771</td><td>-0.05330524</td><td>1.347615</td><td>NaN</td><td>-0.01544969</td><td>      NA</td></tr>\n",
       "\t<tr><th scope=row>Test set</th><td> 0.656198973</td><td>0.7223894</td><td>0.6561990</td><td> 5.00044667</td><td>5.000447</td><td>NaN</td><td> 0.56311162</td><td>3.530439</td></tr>\n",
       "</tbody>\n",
       "</table>\n"
      ],
      "text/latex": [
       "A matrix: 2 × 8 of type dbl\n",
       "\\begin{tabular}{r|llllllll}\n",
       "  & ME & RMSE & MAE & MPE & MAPE & MASE & ACF1 & Theil's U\\\\\n",
       "\\hline\n",
       "\tTraining set & -0.002859152 & 0.3152058 & 0.1645771 & -0.05330524 & 1.347615 & NaN & -0.01544969 &       NA\\\\\n",
       "\tTest set &  0.656198973 & 0.7223894 & 0.6561990 &  5.00044667 & 5.000447 & NaN &  0.56311162 & 3.530439\\\\\n",
       "\\end{tabular}\n"
      ],
      "text/markdown": [
       "\n",
       "A matrix: 2 × 8 of type dbl\n",
       "\n",
       "| <!--/--> | ME | RMSE | MAE | MPE | MAPE | MASE | ACF1 | Theil's U |\n",
       "|---|---|---|---|---|---|---|---|---|\n",
       "| Training set | -0.002859152 | 0.3152058 | 0.1645771 | -0.05330524 | 1.347615 | NaN | -0.01544969 |       NA |\n",
       "| Test set |  0.656198973 | 0.7223894 | 0.6561990 |  5.00044667 | 5.000447 | NaN |  0.56311162 | 3.530439 |\n",
       "\n"
      ],
      "text/plain": [
       "             ME           RMSE      MAE       MPE         MAPE     MASE\n",
       "Training set -0.002859152 0.3152058 0.1645771 -0.05330524 1.347615 NaN \n",
       "Test set      0.656198973 0.7223894 0.6561990  5.00044667 5.000447 NaN \n",
       "             ACF1        Theil's U\n",
       "Training set -0.01544969       NA \n",
       "Test set      0.56311162 3.530439 "
      ]
     },
     "metadata": {},
     "output_type": "display_data"
    }
   ],
   "source": [
    "accuracy(nn_model_pred, valid.ts)"
   ]
  },
  {
   "cell_type": "markdown",
   "id": "2d474f82",
   "metadata": {},
   "source": [
    "# Jiaqi Modeling"
   ]
  },
  {
   "cell_type": "markdown",
   "id": "b1a09a4f",
   "metadata": {},
   "source": [
    "## Model 2 - ARIMA (arima_model)"
   ]
  },
  {
   "cell_type": "code",
   "execution_count": 58,
   "id": "5f49c3e6",
   "metadata": {},
   "outputs": [
    {
     "data": {
      "image/png": "[encoded data removed]",
      "text/plain": [
       "Plot with title \"Differenced Time Series\""
      ]
     },
     "metadata": {
      "image/png": {
       "height": 420,
       "width": 420
      }
     },
     "output_type": "display_data"
    }
   ],
   "source": [
    "df_45m_diff_model <- Arima(df_45m_ts, order = c(1, 1, 1), seasonal = list(order = c(1, 1, 1)))\n",
    "arima_model <- residuals(df_45m_diff_model)\n",
    "plot(arima_model, main = \"Differenced Time Series\", ylab = \"Differenced Values\")"
   ]
  },
  {
   "cell_type": "code",
   "execution_count": 59,
   "id": "6ba54628",
   "metadata": {},
   "outputs": [
    {
     "data": {
      "text/plain": [
       "     Min.   1st Qu.    Median      Mean   3rd Qu.      Max. \n",
       "-4.086788 -0.059352 -0.000561  0.000036  0.057699  4.379539 "
      ]
     },
     "metadata": {},
     "output_type": "display_data"
    }
   ],
   "source": [
    "summary(arima_model)"
   ]
  },
  {
   "cell_type": "markdown",
   "id": "85da0cbc",
   "metadata": {},
   "source": [
    "## Model 3 - ETS (ets_model)\n",
    "### fit an ets model"
   ]
  },
  {
   "cell_type": "code",
   "execution_count": 90,
   "id": "fe3ed47c",
   "metadata": {},
   "outputs": [
    {
     "data": {
      "text/plain": [
       "ETS(M,N,N) \n",
       "\n",
       "Call:\n",
       " ets(y = train.ts) \n",
       "\n",
       "  Smoothing parameters:\n",
       "    alpha = 0.9999 \n",
       "\n",
       "  Initial states:\n",
       "    l = 13.3096 \n",
       "\n",
       "  sigma:  0.0249\n",
       "\n",
       "     AIC     AICc      BIC \n",
       "1164.568 1164.639 1176.072 \n",
       "\n",
       "Training set error measures:\n",
       "                       ME      RMSE       MAE         MPE     MAPE MASE\n",
       "Training set -0.002859152 0.3152058 0.1645771 -0.05330524 1.347615  NaN\n",
       "                    ACF1\n",
       "Training set -0.01544969"
      ]
     },
     "metadata": {},
     "output_type": "display_data"
    }
   ],
   "source": [
    "ets_model <- ets(train.ts)\n",
    "summary(ets_model)"
   ]
  },
  {
   "cell_type": "markdown",
   "id": "91857cd8",
   "metadata": {},
   "source": [
    "### Plot predictions"
   ]
  },
  {
   "cell_type": "code",
   "execution_count": 91,
   "id": "35bccf40",
   "metadata": {},
   "outputs": [
    {
     "data": {
      "text/html": [
       "<table class=\"dataframe\">\n",
       "<caption>A matrix: 2 × 8 of type dbl</caption>\n",
       "<thead>\n",
       "\t<tr><th></th><th scope=col>ME</th><th scope=col>RMSE</th><th scope=col>MAE</th><th scope=col>MPE</th><th scope=col>MAPE</th><th scope=col>MASE</th><th scope=col>ACF1</th><th scope=col>Theil's U</th></tr>\n",
       "</thead>\n",
       "<tbody>\n",
       "\t<tr><th scope=row>Training set</th><td>-0.002859152</td><td>0.3152058</td><td>0.1645771</td><td>-0.05330524</td><td>1.347615</td><td>NaN</td><td>-0.01544969</td><td>      NA</td></tr>\n",
       "\t<tr><th scope=row>Test set</th><td> 0.656198973</td><td>0.7223894</td><td>0.6561990</td><td> 5.00044667</td><td>5.000447</td><td>NaN</td><td> 0.56311162</td><td>3.530439</td></tr>\n",
       "</tbody>\n",
       "</table>\n"
      ],
      "text/latex": [
       "A matrix: 2 × 8 of type dbl\n",
       "\\begin{tabular}{r|llllllll}\n",
       "  & ME & RMSE & MAE & MPE & MAPE & MASE & ACF1 & Theil's U\\\\\n",
       "\\hline\n",
       "\tTraining set & -0.002859152 & 0.3152058 & 0.1645771 & -0.05330524 & 1.347615 & NaN & -0.01544969 &       NA\\\\\n",
       "\tTest set &  0.656198973 & 0.7223894 & 0.6561990 &  5.00044667 & 5.000447 & NaN &  0.56311162 & 3.530439\\\\\n",
       "\\end{tabular}\n"
      ],
      "text/markdown": [
       "\n",
       "A matrix: 2 × 8 of type dbl\n",
       "\n",
       "| <!--/--> | ME | RMSE | MAE | MPE | MAPE | MASE | ACF1 | Theil's U |\n",
       "|---|---|---|---|---|---|---|---|---|\n",
       "| Training set | -0.002859152 | 0.3152058 | 0.1645771 | -0.05330524 | 1.347615 | NaN | -0.01544969 |       NA |\n",
       "| Test set |  0.656198973 | 0.7223894 | 0.6561990 |  5.00044667 | 5.000447 | NaN |  0.56311162 | 3.530439 |\n",
       "\n"
      ],
      "text/plain": [
       "             ME           RMSE      MAE       MPE         MAPE     MASE\n",
       "Training set -0.002859152 0.3152058 0.1645771 -0.05330524 1.347615 NaN \n",
       "Test set      0.656198973 0.7223894 0.6561990  5.00044667 5.000447 NaN \n",
       "             ACF1        Theil's U\n",
       "Training set -0.01544969       NA \n",
       "Test set      0.56311162 3.530439 "
      ]
     },
     "metadata": {},
     "output_type": "display_data"
    }
   ],
   "source": [
    "ets_forecast <- forecast(train.ts, h = 7)\n",
    "accuracy(ets_forecast, valid.ts)"
   ]
  },
  {
   "cell_type": "code",
   "execution_count": null,
   "id": "b84fcf82",
   "metadata": {},
   "outputs": [],
   "source": [
    "plot(ets_forecast, main = \"ETS Model Forecast\", ylab = \"value\", xlab = \"time\")\n",
    "# Add the actual time series for comparison\n",
    "lines(daily_avg_45m_ts, col = \"blue\", lty = 1)\n",
    "# Add a legend\n",
    "legend(\"topright\", legend = c(\"Actual\", \"Forecast\"), col = c(\"blue\", \"red\"), lty = 1:1)"
   ]
  },
  {
   "cell_type": "markdown",
   "id": "5a9bf175",
   "metadata": {},
   "source": [
    "## Model 4 - Linear Regression"
   ]
  },
  {
   "cell_type": "code",
   "execution_count": 72,
   "id": "660ff559",
   "metadata": {},
   "outputs": [
    {
     "data": {
      "text/plain": [
       "\n",
       "Call:\n",
       "lm(formula = daily_avg_45m_ts ~ time(daily_avg_45m_ts))\n",
       "\n",
       "Residuals:\n",
       "    Min      1Q  Median      3Q     Max \n",
       "-1.9107 -0.8529 -0.1468  0.6547  4.0055 \n",
       "\n",
       "Coefficients:\n",
       "                         Estimate Std. Error t value Pr(>|t|)   \n",
       "(Intercept)            -1188.3091   401.9265  -2.957  0.00332 **\n",
       "time(daily_avg_45m_ts)     0.5934     0.1987   2.986  0.00303 **\n",
       "---\n",
       "Signif. codes:  0 '***' 0.001 '**' 0.01 '*' 0.05 '.' 0.1 ' ' 1\n",
       "\n",
       "Residual standard error: 1.025 on 347 degrees of freedom\n",
       "Multiple R-squared:  0.02505,\tAdjusted R-squared:  0.02224 \n",
       "F-statistic: 8.917 on 1 and 347 DF,  p-value: 0.003026\n"
      ]
     },
     "metadata": {},
     "output_type": "display_data"
    }
   ],
   "source": [
    "lin_model <- lm(daily_avg_45m_ts ~ time(daily_avg_45m_ts))\n",
    "summary(lin_model)"
   ]
  },
  {
   "cell_type": "code",
   "execution_count": 73,
   "id": "34a45cbf",
   "metadata": {},
   "outputs": [],
   "source": [
    "predictions <- predict(lin_model)"
   ]
  },
  {
   "cell_type": "markdown",
   "id": "2b49a84a",
   "metadata": {},
   "source": [
    "### Create and plot regression predictions"
   ]
  },
  {
   "cell_type": "code",
   "execution_count": 74,
   "id": "2891c61e",
   "metadata": {},
   "outputs": [
    {
     "name": "stderr",
     "output_type": "stream",
     "text": [
      "\u001b[1m\u001b[22mDon't know how to automatically pick scale for object of type \u001b[34m<ts>\u001b[39m. Defaulting to continuous.\n"
     ]
    },
    {
     "data": {
      "image/png": "[encoded data removed]",
      "text/plain": [
       "plot without title"
      ]
     },
     "metadata": {
      "image/png": {
       "height": 420,
       "width": 420
      }
     },
     "output_type": "display_data"
    }
   ],
   "source": [
    "predictions <- predict(lin_model)\n",
    "\n",
    "# Create a data frame for plotting\n",
    "plot_data <- data.frame(\n",
    "  Time = time(daily_avg_45m_ts),\n",
    "  Actual = as.numeric(daily_avg_45m_ts),\n",
    "  Predicted = as.numeric(predictions)\n",
    ")\n",
    "\n",
    "# Plotting\n",
    "library(ggplot2)\n",
    "\n",
    "ggplot(plot_data, aes(x = Time)) +\n",
    "  geom_line(aes(y = Actual), color = 'blue', size = 1, linetype = 'solid') +\n",
    "  geom_line(aes(y = Predicted), color = 'red', size = 1, linetype = 'dashed') +\n",
    "  labs(x = 'Time', y = 'Linear Regression Model') +\n",
    "  theme_minimal()"
   ]
  },
  {
   "cell_type": "code",
   "execution_count": null,
   "id": "83624929",
   "metadata": {},
   "outputs": [],
   "source": []
  },
  {
   "cell_type": "markdown",
   "id": "953a6688",
   "metadata": {},
   "source": [
    "# Forcasting for all models\n",
    "## (e.g., forecast for the next 24 periods)\n",
    "### List models"
   ]
  },
  {
   "cell_type": "code",
   "execution_count": 71,
   "id": "fbe9e912",
   "metadata": {},
   "outputs": [
    {
     "ename": "ERROR",
     "evalue": "Error in eval(expr, envir, enclos): object 'lin_model' not found\n",
     "output_type": "error",
     "traceback": [
      "Error in eval(expr, envir, enclos): object 'lin_model' not found\nTraceback:\n"
     ]
    }
   ],
   "source": [
    "list_of_models <- c(nn_model, arima_model, ets_model, lin_model)"
   ]
  },
  {
   "cell_type": "markdown",
   "id": "726f2eaa",
   "metadata": {},
   "source": [
    "# Model 1 - Neural Network"
   ]
  },
  {
   "cell_type": "code",
   "execution_count": null,
   "id": "ecdf3039",
   "metadata": {},
   "outputs": [],
   "source": []
  },
  {
   "cell_type": "markdown",
   "id": "b5a71bf2",
   "metadata": {},
   "source": [
    "## Model 2 - ARIMA"
   ]
  },
  {
   "cell_type": "code",
   "execution_count": null,
   "id": "eeb5cc4d",
   "metadata": {},
   "outputs": [],
   "source": []
  },
  {
   "cell_type": "markdown",
   "id": "8c8739f9",
   "metadata": {},
   "source": [
    "## Model 3 - ETS"
   ]
  },
  {
   "cell_type": "code",
   "execution_count": null,
   "id": "a5b18478",
   "metadata": {},
   "outputs": [],
   "source": []
  },
  {
   "cell_type": "markdown",
   "id": "6d2d7b29",
   "metadata": {},
   "source": [
    "# Model 4 - Linear Rgeression"
   ]
  },
  {
   "cell_type": "code",
   "execution_count": null,
   "id": "2eb1a8e8",
   "metadata": {},
   "outputs": [],
   "source": []
  }
 ],
 "metadata": {
  "kernelspec": {
   "display_name": "R",
   "language": "R",
   "name": "ir"
  },
  "language_info": {
   "codemirror_mode": "r",
   "file_extension": ".r",
   "mimetype": "text/x-r-source",
   "name": "R",
   "pygments_lexer": "r",
   "version": "4.3.0"
  }
 },
 "nbformat": 4,
 "nbformat_minor": 5
}
